{
 "cells": [
  {
   "cell_type": "markdown",
   "metadata": {},
   "source": [
    "# Final Programming Assignment\n",
    "## Data Analysis"
   ]
  },
  {
   "cell_type": "markdown",
   "metadata": {},
   "source": [
    "_Berlin School of Mind and Brain  \n",
    "Winter Semester 19-20  \n",
    "Course: Introduction to Python  \n",
    "Lecturer: Dr. Luke Tudge  \n",
    "Author of the project: Ayşenur Akyüz_"
   ]
  },
  {
   "cell_type": "markdown",
   "metadata": {},
   "source": [
    "# Table of Contents <sup>[1](#1)</sup>\n",
    "\n",
    "1. [Introduction](#user-content-intro) <br>\n",
    "   1.1 [Task 1](#one)<br>\n",
    "   1.2 [Task 2](#two)<br>\n",
    "   1.3 [Task 3](#three)\n",
    "2. [Getting Started](#get)\n",
    "3. [Results for Task1](#task1)\n",
    "4. [Results for Task2](#task2)\n",
    "5. [Results for Task3](#task3)\n",
    "6. [Controls](#cont)\n",
    "7. [References](#ref)"
   ]
  },
  {
   "cell_type": "markdown",
   "metadata": {},
   "source": [
    "## Introduction\n",
    "<a id=\"intro\"></a>"
   ]
  },
  {
   "cell_type": "markdown",
   "metadata": {},
   "source": [
    "As the final assignment for the Python class, I selected the task number 3, the data analysis: bugs"
   ]
  },
  {
   "cell_type": "markdown",
   "metadata": {},
   "source": [
    "Here in the following section you may see what we are required to do, I am directly copying the words of our lecturer for  practical reasons:<br>  A somewhat silly psychology experiment conducted in 2013 measured subjects’ reactions to\n",
    "pictures of bugs. Independent raters had deemed the bugs to be either disgusting or non-disgusting,\n",
    "and either frightening or non-frightening. The subjects had to rate how much they wanted to kill\n",
    "each bug, on a scale from 1 to 10.<br> You can read more about the experiment here:<br>\n",
    "https://doi.org/10.1016/j.chb.2013.01.024 <br>\n",
    "And you can obtain a csv file of the data from the experiment here:<br>\n",
    "https://raw.githubusercontent.com/luketudge/stats-tutorials/master/tutorials/data/bugs.csv <br>\n",
    "Write a Python program that produces an analysis of these data. Your program should print some\n",
    "numerical summaries and produce a plot: <br>\n"
   ]
  },
  {
   "cell_type": "markdown",
   "metadata": {},
   "source": [
    "__Task 1:__ <br> <a id=\"one\"></a>\n",
    "- Summary statistics of the kill ratings for each type of bug:<br>\n",
    " - minimum <br>\n",
    " - maximum <br>\n",
    " - median <br>\n",
    " - mean <br>\n",
    " - Standard Deviation <br>  \n"
   ]
  },
  {
   "cell_type": "markdown",
   "metadata": {},
   "source": [
    "__Task 2:__<br> <a id=\"two\"></a>\n",
    "- The results of a linear model with kill rating as the outcome variable and the categories of\n",
    "bug as the predictor variables"
   ]
  },
  {
   "cell_type": "markdown",
   "metadata": {},
   "source": [
    "__Task 3:__ <br>  <a id=\"three\"></a>\n",
    "- Boxplots with overlaid points showing the distribution of kill ratings for each category of\n",
    "bug.<br>\n",
    "- Try to recreate the main features of the plot shown below.\n"
   ]
  },
  {
   "cell_type": "markdown",
   "metadata": {},
   "source": [
    "![Image](https://raw.githubusercontent.com/aysenurakyuz/Pyhton-Final-Assignment/master/graph.jpg) "
   ]
  },
  {
   "cell_type": "markdown",
   "metadata": {},
   "source": [
    "## Getting Started <a id=\"get\"></a>"
   ]
  },
  {
   "cell_type": "markdown",
   "metadata": {},
   "source": [
    "To analyze our data we need to import several standard libraries. However I am going to import these step by step when having them is necessary for the task.\n"
   ]
  },
  {
   "cell_type": "markdown",
   "metadata": {},
   "source": [
    "To analyze this data, first we need to pull the related data from our operating system and to do this first we need to allow our program to interact with the operating system. To do the latter we say:  "
   ]
  },
  {
   "cell_type": "code",
   "execution_count": 75,
   "metadata": {},
   "outputs": [],
   "source": [
    "import os"
   ]
  },
  {
   "cell_type": "markdown",
   "metadata": {},
   "source": [
    "If the file that we want to have is in the same directory with our program, we create the path we need by holding directory and file names together. I am holding my program and 'bugs' file under 'data' directory. I created this file path to call the 'bugs' file, therefore to manipulate it further."
   ]
  },
  {
   "cell_type": "code",
   "execution_count": 76,
   "metadata": {},
   "outputs": [],
   "source": [
    "filepath = os.path.join('data', 'bugs.csv')"
   ]
  },
  {
   "cell_type": "markdown",
   "metadata": {},
   "source": [
    "Now we are importing another standard library: pandas. The pandas library provides data structures and functions, and facilitates data analysis"
   ]
  },
  {
   "cell_type": "code",
   "execution_count": 77,
   "metadata": {},
   "outputs": [],
   "source": [
    "import pandas"
   ]
  },
  {
   "cell_type": "markdown",
   "metadata": {},
   "source": [
    "We do the following to read the file. 'df' signifies the 'bugs' file. I named this as 'df', not 'bugs' so one can easily change the file that she wants to use or the rest of the program by only changing the name of the file. So if we want to change the data thus the file we use, we need to change the name of the file in os.path.join() command. Of course again the new file and the program should be in the same directory.  "
   ]
  },
  {
   "cell_type": "code",
   "execution_count": 78,
   "metadata": {},
   "outputs": [],
   "source": [
    "df = pandas.read_csv(filepath)"
   ]
  },
  {
   "cell_type": "markdown",
   "metadata": {},
   "source": [
    "We can say print df to see whether our program successfully reads the file. Since the data consist of lots of columns, our program shows only a few of the first and last columns."
   ]
  },
  {
   "cell_type": "code",
   "execution_count": 79,
   "metadata": {},
   "outputs": [
    {
     "name": "stdout",
     "output_type": "stream",
     "text": [
      "     Subject     Sex Disgust  Fear  KillRating\n",
      "0          1  Female     low   low         6.0\n",
      "1          3  Female     low   low         5.0\n",
      "2          4  Female     low   low         6.0\n",
      "3          5  Female     low   low         3.0\n",
      "4          6  Female     low   low         2.0\n",
      "..       ...     ...     ...   ...         ...\n",
      "343       96    Male    high  high        10.0\n",
      "344       97  Female    high  high        10.0\n",
      "345       98  Female    high  high        10.0\n",
      "346       99  Female    high  high        10.0\n",
      "347      100  Female    high  high         3.0\n",
      "\n",
      "[348 rows x 5 columns]\n"
     ]
    }
   ],
   "source": [
    "print(df)"
   ]
  },
  {
   "cell_type": "markdown",
   "metadata": {},
   "source": [
    "The tasks requires us to test different aspects of the variable: 'Kill Rating' according to 2 other variables: 'Disgust' and 'Fear'. Therefore 'Kill Rating' becomes our outcome variable and the other 2 variables become our predictive variables.\n",
    "We are not going to name the variables as the way they were named in the experiment. But we are going use generic variable names such as outcome variable and predictive variables so if we want use a different data (file)  or a different variable from our current data, we can easily change the rest of the program without breaking it."
   ]
  },
  {
   "cell_type": "code",
   "execution_count": 80,
   "metadata": {},
   "outputs": [],
   "source": [
    "outcome_var = df['KillRating']\n",
    "predictive_var1 =df['Disgust']\n",
    "predictive_var2 = df['Fear']\n"
   ]
  },
  {
   "cell_type": "markdown",
   "metadata": {},
   "source": [
    "However, we need to be careful about changing the file or variables. Because our program only works correctly when our predictive variables are categorical and our outcome variable is quantitative, we can inform the user about this situation by forming a warning.<sup>[2](#2)</sup>"
   ]
  },
  {
   "cell_type": "code",
   "execution_count": 81,
   "metadata": {
    "scrolled": true
   },
   "outputs": [
    {
     "name": "stderr",
     "output_type": "stream",
     "text": [
      "C:\\Users\\ASUS\\Anaconda3\\lib\\site-packages\\ipykernel_launcher.py:3: UserWarning: Please check if the predictable variables are categorical and the outcome variable is quantitative\n",
      "  This is separate from the ipykernel package so we can avoid doing imports until\n"
     ]
    }
   ],
   "source": [
    "import warnings\n",
    "\n",
    "warnings.warn(\"Please check if the predictable variables are categorical and the outcome variable is quantitative\")"
   ]
  },
  {
   "cell_type": "markdown",
   "metadata": {},
   "source": [
    "## Results for Task 1 <a id=\"task1\"></a>"
   ]
  },
  {
   "cell_type": "markdown",
   "metadata": {},
   "source": [
    "After we handle the details, we may continue with the real requirement of Task 1. First we import another standard library 'statistics' to execute some stastical functions."
   ]
  },
  {
   "cell_type": "code",
   "execution_count": 82,
   "metadata": {},
   "outputs": [],
   "source": [
    "import statistics"
   ]
  },
  {
   "cell_type": "markdown",
   "metadata": {},
   "source": [
    "The task 1 demands the summary statistics of kill rating for each type of bug.Thus, we need to group the outcome variable according to predictable variables, we do this by using groupby() method. Then we use aggregate() method to make a table for the summary stats results.<sup>[3](#1)</sup>"
   ]
  },
  {
   "cell_type": "code",
   "execution_count": 83,
   "metadata": {},
   "outputs": [
    {
     "data": {
      "text/html": [
       "<div>\n",
       "<style scoped>\n",
       "    .dataframe tbody tr th:only-of-type {\n",
       "        vertical-align: middle;\n",
       "    }\n",
       "\n",
       "    .dataframe tbody tr th {\n",
       "        vertical-align: top;\n",
       "    }\n",
       "\n",
       "    .dataframe thead th {\n",
       "        text-align: right;\n",
       "    }\n",
       "</style>\n",
       "<table border=\"1\" class=\"dataframe\">\n",
       "  <thead>\n",
       "    <tr style=\"text-align: right;\">\n",
       "      <th></th>\n",
       "      <th></th>\n",
       "      <th>min</th>\n",
       "      <th>median</th>\n",
       "      <th>mean</th>\n",
       "      <th>stdev</th>\n",
       "      <th>max</th>\n",
       "    </tr>\n",
       "    <tr>\n",
       "      <th>Disgust</th>\n",
       "      <th>Fear</th>\n",
       "      <th></th>\n",
       "      <th></th>\n",
       "      <th></th>\n",
       "      <th></th>\n",
       "      <th></th>\n",
       "    </tr>\n",
       "  </thead>\n",
       "  <tbody>\n",
       "    <tr>\n",
       "      <td rowspan=\"2\" valign=\"top\">high</td>\n",
       "      <td>high</td>\n",
       "      <td>0.0</td>\n",
       "      <td>8.5</td>\n",
       "      <td>7.804598</td>\n",
       "      <td>2.495760</td>\n",
       "      <td>10.0</td>\n",
       "    </tr>\n",
       "    <tr>\n",
       "      <td>low</td>\n",
       "      <td>0.0</td>\n",
       "      <td>7.5</td>\n",
       "      <td>6.660920</td>\n",
       "      <td>3.151683</td>\n",
       "      <td>10.0</td>\n",
       "    </tr>\n",
       "    <tr>\n",
       "      <td rowspan=\"2\" valign=\"top\">low</td>\n",
       "      <td>high</td>\n",
       "      <td>0.5</td>\n",
       "      <td>8.0</td>\n",
       "      <td>7.339080</td>\n",
       "      <td>2.551213</td>\n",
       "      <td>10.0</td>\n",
       "    </tr>\n",
       "    <tr>\n",
       "      <td>low</td>\n",
       "      <td>0.0</td>\n",
       "      <td>6.0</td>\n",
       "      <td>5.632184</td>\n",
       "      <td>2.680094</td>\n",
       "      <td>10.0</td>\n",
       "    </tr>\n",
       "  </tbody>\n",
       "</table>\n",
       "</div>"
      ],
      "text/plain": [
       "              min  median      mean     stdev   max\n",
       "Disgust Fear                                       \n",
       "high    high  0.0     8.5  7.804598  2.495760  10.0\n",
       "        low   0.0     7.5  6.660920  3.151683  10.0\n",
       "low     high  0.5     8.0  7.339080  2.551213  10.0\n",
       "        low   0.0     6.0  5.632184  2.680094  10.0"
      ]
     },
     "execution_count": 83,
     "metadata": {},
     "output_type": "execute_result"
    }
   ],
   "source": [
    "outcome_var.groupby([predictive_var1, predictive_var2]).aggregate([min, statistics.median, statistics.mean, statistics.stdev, max])\n"
   ]
  },
  {
   "cell_type": "markdown",
   "metadata": {},
   "source": [
    "# Results for Task 2 <a id=\"task2\"></a>"
   ]
  },
  {
   "cell_type": "markdown",
   "metadata": {},
   "source": [
    "To create a multiple linear regression model, we first need to import another standard library that is called stastmodels. This library allows us to assess various type of statistical models. Also, we will use formula module in this library to form our own formulas in the 'string' form. And we also need ols method"
   ]
  },
  {
   "cell_type": "code",
   "execution_count": 84,
   "metadata": {},
   "outputs": [],
   "source": [
    "from statsmodels.formula.api import ols"
   ]
  },
  {
   "cell_type": "markdown",
   "metadata": {},
   "source": [
    "We will use a R-style formula as indicated below and use fit method to get our regression model."
   ]
  },
  {
   "cell_type": "code",
   "execution_count": 85,
   "metadata": {},
   "outputs": [],
   "source": [
    "model = ols('outcome_var ~ predictive_var1 +  predictive_var2', data=df)\n",
    "model = model.fit()"
   ]
  },
  {
   "cell_type": "markdown",
   "metadata": {},
   "source": [
    "To present our model:"
   ]
  },
  {
   "cell_type": "code",
   "execution_count": 86,
   "metadata": {},
   "outputs": [
    {
     "data": {
      "text/html": [
       "<table class=\"simpletable\">\n",
       "<caption>OLS Regression Results</caption>\n",
       "<tr>\n",
       "  <th>Dep. Variable:</th>       <td>outcome_var</td>   <th>  R-squared:         </th> <td>   0.080</td>\n",
       "</tr>\n",
       "<tr>\n",
       "  <th>Model:</th>                   <td>OLS</td>       <th>  Adj. R-squared:    </th> <td>   0.075</td>\n",
       "</tr>\n",
       "<tr>\n",
       "  <th>Method:</th>             <td>Least Squares</td>  <th>  F-statistic:       </th> <td>   15.10</td>\n",
       "</tr>\n",
       "<tr>\n",
       "  <th>Date:</th>             <td>Wed, 29 Apr 2020</td> <th>  Prob (F-statistic):</th> <td>5.18e-07</td>\n",
       "</tr>\n",
       "<tr>\n",
       "  <th>Time:</th>                 <td>04:56:37</td>     <th>  Log-Likelihood:    </th> <td> -841.99</td>\n",
       "</tr>\n",
       "<tr>\n",
       "  <th>No. Observations:</th>      <td>   348</td>      <th>  AIC:               </th> <td>   1690.</td>\n",
       "</tr>\n",
       "<tr>\n",
       "  <th>Df Residuals:</th>          <td>   345</td>      <th>  BIC:               </th> <td>   1702.</td>\n",
       "</tr>\n",
       "<tr>\n",
       "  <th>Df Model:</th>              <td>     2</td>      <th>                     </th>     <td> </td>   \n",
       "</tr>\n",
       "<tr>\n",
       "  <th>Covariance Type:</th>      <td>nonrobust</td>    <th>                     </th>     <td> </td>   \n",
       "</tr>\n",
       "</table>\n",
       "<table class=\"simpletable\">\n",
       "<tr>\n",
       "             <td></td>               <th>coef</th>     <th>std err</th>      <th>t</th>      <th>P>|t|</th>  <th>[0.025</th>    <th>0.975]</th>  \n",
       "</tr>\n",
       "<tr>\n",
       "  <th>Intercept</th>              <td>    7.9454</td> <td>    0.254</td> <td>   31.327</td> <td> 0.000</td> <td>    7.447</td> <td>    8.444</td>\n",
       "</tr>\n",
       "<tr>\n",
       "  <th>predictive_var1[T.low]</th> <td>   -0.7471</td> <td>    0.293</td> <td>   -2.551</td> <td> 0.011</td> <td>   -1.323</td> <td>   -0.171</td>\n",
       "</tr>\n",
       "<tr>\n",
       "  <th>predictive_var2[T.low]</th> <td>   -1.4253</td> <td>    0.293</td> <td>   -4.867</td> <td> 0.000</td> <td>   -2.001</td> <td>   -0.849</td>\n",
       "</tr>\n",
       "</table>\n",
       "<table class=\"simpletable\">\n",
       "<tr>\n",
       "  <th>Omnibus:</th>       <td>24.495</td> <th>  Durbin-Watson:     </th> <td>   2.002</td>\n",
       "</tr>\n",
       "<tr>\n",
       "  <th>Prob(Omnibus):</th> <td> 0.000</td> <th>  Jarque-Bera (JB):  </th> <td>  26.814</td>\n",
       "</tr>\n",
       "<tr>\n",
       "  <th>Skew:</th>          <td>-0.652</td> <th>  Prob(JB):          </th> <td>1.50e-06</td>\n",
       "</tr>\n",
       "<tr>\n",
       "  <th>Kurtosis:</th>      <td> 2.617</td> <th>  Cond. No.          </th> <td>    3.19</td>\n",
       "</tr>\n",
       "</table><br/><br/>Warnings:<br/>[1] Standard Errors assume that the covariance matrix of the errors is correctly specified."
      ],
      "text/plain": [
       "<class 'statsmodels.iolib.summary.Summary'>\n",
       "\"\"\"\n",
       "                            OLS Regression Results                            \n",
       "==============================================================================\n",
       "Dep. Variable:            outcome_var   R-squared:                       0.080\n",
       "Model:                            OLS   Adj. R-squared:                  0.075\n",
       "Method:                 Least Squares   F-statistic:                     15.10\n",
       "Date:                Wed, 29 Apr 2020   Prob (F-statistic):           5.18e-07\n",
       "Time:                        04:56:37   Log-Likelihood:                -841.99\n",
       "No. Observations:                 348   AIC:                             1690.\n",
       "Df Residuals:                     345   BIC:                             1702.\n",
       "Df Model:                           2                                         \n",
       "Covariance Type:            nonrobust                                         \n",
       "==========================================================================================\n",
       "                             coef    std err          t      P>|t|      [0.025      0.975]\n",
       "------------------------------------------------------------------------------------------\n",
       "Intercept                  7.9454      0.254     31.327      0.000       7.447       8.444\n",
       "predictive_var1[T.low]    -0.7471      0.293     -2.551      0.011      -1.323      -0.171\n",
       "predictive_var2[T.low]    -1.4253      0.293     -4.867      0.000      -2.001      -0.849\n",
       "==============================================================================\n",
       "Omnibus:                       24.495   Durbin-Watson:                   2.002\n",
       "Prob(Omnibus):                  0.000   Jarque-Bera (JB):               26.814\n",
       "Skew:                          -0.652   Prob(JB):                     1.50e-06\n",
       "Kurtosis:                       2.617   Cond. No.                         3.19\n",
       "==============================================================================\n",
       "\n",
       "Warnings:\n",
       "[1] Standard Errors assume that the covariance matrix of the errors is correctly specified.\n",
       "\"\"\""
      ]
     },
     "execution_count": 86,
     "metadata": {},
     "output_type": "execute_result"
    }
   ],
   "source": [
    "model.summary()"
   ]
  },
  {
   "cell_type": "markdown",
   "metadata": {},
   "source": [
    "In this table we have lots of information but only few of them is relevant for our model. Intercept represents the baseline number and coefficient values of our predictive variables represent the multiplier value of them. <br> So our equation is: $$ KillRating = 7.95 - 0.74Disgust - 1.43Fear + \\epsilon $$"
   ]
  },
  {
   "cell_type": "markdown",
   "metadata": {},
   "source": [
    "If you do now want to deal with the complicated table above you can do the following to get the outputs that you need: <sup>[4](#4)</sup> "
   ]
  },
  {
   "cell_type": "code",
   "execution_count": 87,
   "metadata": {},
   "outputs": [
    {
     "data": {
      "text/plain": [
       "Intercept                 7.945402\n",
       "predictive_var1[T.low]   -0.747126\n",
       "predictive_var2[T.low]   -1.425287\n",
       "dtype: float64"
      ]
     },
     "execution_count": 87,
     "metadata": {},
     "output_type": "execute_result"
    }
   ],
   "source": [
    "model.params"
   ]
  },
  {
   "cell_type": "markdown",
   "metadata": {},
   "source": [
    "## Results for Task  3 <a id=\"task3\"></a>"
   ]
  },
  {
   "cell_type": "markdown",
   "metadata": {},
   "source": [
    "Now for this task we need to form an overlapping scatter plot and boxplot which shows rates of kill ratings for each type of bug. We need to import a standard library: seaborn. Seaborn makes our life easier when it comes to data visualization. Also we are going to import another standard library, maltplotlib which is also used widely for data visualization. We will use this for further modifying and handling details of the plot.<sup>[5](#5)</sup>\n"
   ]
  },
  {
   "cell_type": "code",
   "execution_count": 88,
   "metadata": {},
   "outputs": [],
   "source": [
    "import seaborn as sns\n",
    "import matplotlib.pyplot as plt"
   ]
  },
  {
   "cell_type": "markdown",
   "metadata": {},
   "source": [
    "First I am going to run stripplot and boxplot functions separately to make sure that we understand how these functions work.\n",
    "To create a stripplot we use stripplot function of seaborn. In the plot that our lecturer provided to us: in x axis we have Disgust and in y axis we have Kill Rating and these variables grouped by Fear into different color markers. So we draw our plot accordingly: x is our predictive variable thus 'Disgust' and y is our outcome variable thus 'KillRating'. 'Hue' represents which varible we want to group into different colors, in our case it is predictive variable 2, thus 'Fear'.<sup>[5](#5)</sup>\n",
    "Jitter can be used when you have too much data points which result in overlaps, it makes the distrubion more viewer-friendly. Dodge is used to avoid data points of different hues to overlap. I think the rest is kind of self explanatory.<sup>[6](#6)</sup>"
   ]
  },
  {
   "cell_type": "code",
   "execution_count": 89,
   "metadata": {},
   "outputs": [
    {
     "data": {
      "text/plain": [
       "<matplotlib.axes._subplots.AxesSubplot at 0x2362ba00448>"
      ]
     },
     "execution_count": 89,
     "metadata": {},
     "output_type": "execute_result"
    },
    {
     "data": {
      "image/png": "[encoded data removed]",
      "text/plain": [
       "<Figure size 432x288 with 1 Axes>"
      ]
     },
     "metadata": {
      "needs_background": "light"
     },
     "output_type": "display_data"
    }
   ],
   "source": [
    "sns.stripplot(x= predictive_var1 , y= outcome_var  , hue= predictive_var2,\n",
    "data=df, jitter=True,\n",
    "palette=\"Set2\", dodge=True,linewidth=1,edgecolor='gray')\n"
   ]
  },
  {
   "cell_type": "markdown",
   "metadata": {},
   "source": [
    "Now we are going to create a boxplot. This time we use boxplot function of seaborn. The rest is the same as stripplot. Also we name this plot below as 'ax' so we can make changes in further steps.<sup>[5](#5)</sup>"
   ]
  },
  {
   "cell_type": "code",
   "execution_count": 90,
   "metadata": {},
   "outputs": [
    {
     "data": {
      "image/png": "[encoded data removed]",
      "text/plain": [
       "<Figure size 432x288 with 1 Axes>"
      ]
     },
     "metadata": {
      "needs_background": "light"
     },
     "output_type": "display_data"
    }
   ],
   "source": [
    "ax = sns.boxplot(x= predictive_var1 , y= outcome_var  , hue= predictive_var2,\n",
    "data=df,palette=\"Set2\",fliersize=0)"
   ]
  },
  {
   "cell_type": "markdown",
   "metadata": {},
   "source": [
    "To create a combination of stripplot and boxplot that we formed above, we are going to run them in the same cell.<sup>[5](#5)</sup>"
   ]
  },
  {
   "cell_type": "code",
   "execution_count": 91,
   "metadata": {},
   "outputs": [
    {
     "data": {
      "image/png": "[encoded data removed]",
      "text/plain": [
       "<Figure size 432x288 with 1 Axes>"
      ]
     },
     "metadata": {
      "needs_background": "light"
     },
     "output_type": "display_data"
    }
   ],
   "source": [
    "plot = sns.stripplot(x= predictive_var1 , y= outcome_var  , hue= predictive_var2,\n",
    "data=df, jitter=True,\n",
    "palette=\"Set2\", dodge=True,linewidth=1,edgecolor='gray')\n",
    "ax = sns.boxplot(x= predictive_var1 , y= outcome_var  , hue= predictive_var2,\n",
    "data=df,palette=\"Set2\",fliersize=0)"
   ]
  },
  {
   "cell_type": "markdown",
   "metadata": {},
   "source": [
    "Now I want to make a few changes to make our plot look more similar to our lecturer's plot.<sup>[5](#5)</sup> <sup>[6](#6)</sup> <sup>[7](#7)</sup> <sup>[8](#8)</sup> <sup>[9](#9)</sup> <sup>[10](#10)</sup> <sup>[11](#11)</sup>"
   ]
  },
  {
   "cell_type": "code",
   "execution_count": 92,
   "metadata": {
    "scrolled": true
   },
   "outputs": [
    {
     "data": {
      "image/png": "[encoded data removed]",
      "text/plain": [
       "<Figure size 432x288 with 1 Axes>"
      ]
     },
     "metadata": {
      "needs_background": "light"
     },
     "output_type": "display_data"
    }
   ],
   "source": [
    "#to create the plot again\n",
    "plot = sns.stripplot(x= predictive_var1 , y= outcome_var  , hue= predictive_var2,\n",
    "data=df, jitter=True,\n",
    "palette=\"Set2\", dodge=True,linewidth=1,edgecolor='gray')\n",
    "ax = sns.boxplot(x= predictive_var1 , y= outcome_var  , hue= predictive_var2,\n",
    "data=df,palette=\"Set2\",fliersize=0)\n",
    "\n",
    "# change the label of y axis\n",
    "ax.set(ylabel='Desire to Kill')\n",
    "\n",
    " \n",
    "#to have grids\n",
    "plt.grid(True)\n",
    "\n",
    "\n",
    "#to change background color\n",
    "ax.set_facecolor('gray')\n",
    "\n",
    "#get the handles and labels\n",
    "handles, labels = ax.get_legend_handles_labels()\n",
    "\n",
    "#in the previous plot we have double legeng. to keep the first two elements i.e. legend for boxplot: \n",
    "l = plt.legend(handles[0:2], labels[0:2],\n",
    "# to put a title to legend               \n",
    "title='Fear',\n",
    "#change the location of legend\n",
    "bbox_to_anchor=(1.05, 0.7), loc= 2, borderaxespad=0.)\n",
    "\n",
    "#to remove the border of legend\n",
    "l.get_frame().set_linewidth(0.0)   \n"
   ]
  },
  {
   "cell_type": "markdown",
   "metadata": {},
   "source": [
    "## Controls <a id=\"cont\"></a>"
   ]
  },
  {
   "cell_type": "markdown",
   "metadata": {},
   "source": [
    "Now I want to make sure if our program works if we use another variable from our current data or when we use entirely different data set. We are going to this by creating boxplots with these new data. First we are going to test the condition that we use another variable from our data. In the bugs file there is another variable called 'Sex'. We are going to change the predictive varible into this newly introduced data and see what happens. <br> P.S.: The predictive variable should be categorical as it was indicated at the warning above."
   ]
  },
  {
   "cell_type": "code",
   "execution_count": 93,
   "metadata": {},
   "outputs": [
    {
     "data": {
      "text/plain": [
       "<matplotlib.axes._subplots.AxesSubplot at 0x2362cdd7b08>"
      ]
     },
     "execution_count": 93,
     "metadata": {},
     "output_type": "execute_result"
    },
    {
     "data": {
      "image/png": "[encoded data removed]",
      "text/plain": [
       "<Figure size 432x288 with 1 Axes>"
      ]
     },
     "metadata": {
      "needs_background": "light"
     },
     "output_type": "display_data"
    }
   ],
   "source": [
    "predictive_var1 = df['Sex']\n",
    "sns.boxplot(x= predictive_var1 , y= outcome_var  , hue= predictive_var2,\n",
    "data=df,palette=\"Set2\",fliersize=0)\n"
   ]
  },
  {
   "cell_type": "markdown",
   "metadata": {},
   "source": [
    "We managed to change one parameter without breaking the program! Now try changing the entire data. We go with \"erotic_art\" file which was provided to us by the lecturer as one of the example data sets. Our program and this file are in the same directory and \"bugs\" file and this file are in the same folder which is called \"data\" in my operator. <br> P.S. Please check: predictive variables should be categorical and outcome variable should be quantitative."
   ]
  },
  {
   "cell_type": "code",
   "execution_count": 94,
   "metadata": {},
   "outputs": [
    {
     "data": {
      "text/plain": [
       "<matplotlib.axes._subplots.AxesSubplot at 0x2362cf24b88>"
      ]
     },
     "execution_count": 94,
     "metadata": {},
     "output_type": "execute_result"
    },
    {
     "data": {
      "image/png": "[encoded data removed]",
      "text/plain": [
       "<Figure size 432x288 with 1 Axes>"
      ]
     },
     "metadata": {
      "needs_background": "light"
     },
     "output_type": "display_data"
    }
   ],
   "source": [
    "filepath = os.path.join('data', 'erotic_art.csv')\n",
    "\n",
    "df = pandas.read_csv(filepath)\n",
    "\n",
    "outcome_var = df['ImagePleasantness']\n",
    "predictive_var1 =df['Sex']\n",
    "predictive_var2 = df['Images']\n",
    "\n",
    "sns.boxplot(x= predictive_var1 , y= outcome_var  , hue= predictive_var2,\n",
    "data=df,palette=\"Set2\",fliersize=0)"
   ]
  },
  {
   "cell_type": "markdown",
   "metadata": {},
   "source": [
    "## References <a id=\"ref\"></a>"
   ]
  },
  {
   "cell_type": "markdown",
   "metadata": {},
   "source": [
    "1- https://medium.com/@sambozek/ipython-er-jupyter-table-of-contents-69bb72cf39d3 <a id=\"1\"></a> <br>\n",
    "2- https://docs.python.org/3/library/warnings.html <a id=\"2\"></a> <br>\n",
    "3- https://www.shanelynn.ie/summarising-aggregation-and-grouping-data-in-python-pandas/ <a id=\"3\"></a> <br>\n",
    "4- http://blog.rtwilson.com/regression-in-python-using-r-style-formula-its-easy/ <a id=\"4\"></a> <br>\n",
    "5- https://stackoverflow.com/questions/35538882/seaborn-boxplot-stripplot-duplicate-legend <a id=\"5\"></a> <br>\n",
    "6- https://seaborn.pydata.org/generated/seaborn.stripplot.html <a id=\"6\"></a> <br>\n",
    "7- https://stackoverflow.com/questions/37109021/changing-x-axis-labels-in-seaborn-boxplot <a id=\"7\"></a> <br>\n",
    "8- https://matplotlib.org/gallery/text_labels_and_annotations/multiline.html#sphx-glr-gallery-text-labels-and-annotations-multiline-py <a id=\"8\"></a> <br>\n",
    "9- https://stackoverflow.com/questions/14088687/how-to-change-plot-background-color <a id=\"9\"></a> <br>\n",
    "10- https://stackoverflow.com/questions/44620013/title-for-matplotlib-legend <a id=\"10\"></a> <br>\n",
    "11- https://stackoverflow.com/questions/25540259/remove-or-adapt-border-of-frame-of-legend-using-matplotlib <a id=\"11\"></a> <br>\n",
    "12-https://github.com/luketudge/introduction-to-programming/blob/master/content/index.ipynb <br>\n",
    "Jupyter Notebook References:  <br>\n",
    "13- to resize an image: https://www.youtube.com/watch?v=Vw1EZh1My8s <br>\n",
    "14- to format the markdown cells: https://medium.com/ibm-data-science-experience/markdown-for-jupyter-notebooks-cheatsheet-386c05aeebed\n"
   ]
  }
 ],
 "metadata": {
  "kernelspec": {
   "display_name": "Python 3",
   "language": "python",
   "name": "python3"
  },
  "language_info": {
   "codemirror_mode": {
    "name": "ipython",
    "version": 3
   },
   "file_extension": ".py",
   "mimetype": "text/x-python",
   "name": "python",
   "nbconvert_exporter": "python",
   "pygments_lexer": "ipython3",
   "version": "3.7.4"
  }
 },
 "nbformat": 4,
 "nbformat_minor": 2
}
